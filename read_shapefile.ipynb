{
 "cells": [
  {
   "cell_type": "code",
   "execution_count": 1,
   "metadata": {},
   "outputs": [
    {
     "name": "stdout",
     "output_type": "stream",
     "text": [
      "shapefil read\n"
     ]
    }
   ],
   "source": [
    "import shapefile\n",
    "import json\n",
    "\n",
    "shapefile_path = 'gebouwen.shp'\n",
    "#shapefile_path = 'GRBGebL1D245035.shp'\n",
    "jsonfile_path = 'building_geometry.json'\n",
    "res = list()\n",
    "with shapefile.Reader(shapefile_path) as shp:\n",
    "   print('shapefil read')\n",
    "   for i, shape_record in enumerate(shp.shapeRecords()):\n",
    "        attributes = shape_record.record\n",
    "        #print(attributes)\n",
    "        geometry = shape_record.shape.__geo_interface__\n",
    "        attrdict = {'ID' :i+1,\"GRB_OIDN\":attributes['GRB_OIDN'],'H_DTM_GEM': attributes['H_DTM_GEM'],'HN_MAX': attributes['HN_MAX'], 'Coordinates':geometry['coordinates'][0] }\n",
    "        #print(attrdict)\n",
    "        res.append(attrdict)\n",
    "jshape = json.dumps(res)\n",
    "with open(jsonfile_path, \"w\") as outfile:\n",
    "    json.dump(jshape, outfile, indent=4, sort_keys=False)"
   ]
  }
 ],
 "metadata": {
  "kernelspec": {
   "display_name": "Python 3",
   "language": "python",
   "name": "python3"
  },
  "language_info": {
   "codemirror_mode": {
    "name": "ipython",
    "version": 3
   },
   "file_extension": ".py",
   "mimetype": "text/x-python",
   "name": "python",
   "nbconvert_exporter": "python",
   "pygments_lexer": "ipython3",
   "version": "3.11.0"
  }
 },
 "nbformat": 4,
 "nbformat_minor": 2
}
